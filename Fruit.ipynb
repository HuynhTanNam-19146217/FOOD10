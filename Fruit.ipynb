{
  "nbformat": 4,
  "nbformat_minor": 0,
  "metadata": {
    "colab": {
      "name": "Fruit.ipynb",
      "provenance": [],
      "collapsed_sections": [],
      "mount_file_id": "1Mr-Q5kV8CQc9S8AMiA7NW0LRWCv_7R8V",
      "authorship_tag": "ABX9TyOsQOdbNulgO8owhL9Dwd7Q",
      "include_colab_link": true
    },
    "kernelspec": {
      "name": "python3",
      "display_name": "Python 3"
    },
    "language_info": {
      "name": "python"
    }
  },
  "cells": [
    {
      "cell_type": "markdown",
      "metadata": {
        "id": "view-in-github",
        "colab_type": "text"
      },
      "source": [
        "<a href=\"https://colab.research.google.com/github/HuynhTanNam-19146217/Week14/blob/FRUIT/Fruit.ipynb\" target=\"_parent\"><img src=\"https://colab.research.google.com/assets/colab-badge.svg\" alt=\"Open In Colab\"/></a>"
      ]
    },
    {
      "cell_type": "code",
      "execution_count": null,
      "metadata": {
        "id": "EGWcmaid9-Qv"
      },
      "outputs": [],
      "source": [
        "from tensorflow.keras.preprocessing.image import ImageDataGenerator\n",
        "from tensorflow.keras.preprocessing import image\n",
        "from tensorflow.keras.optimizers import SGD, RMSprop\n",
        "from tensorflow.keras.utils import to_categorical\n",
        "import matplotlib.pyplot as plt\n",
        "from tensorflow.keras.models import load_model\n",
        "import tensorflow as  tf\n",
        "import numpy as np\n",
        "import cv2\n",
        "import os\n",
        "from keras.utils import np_utils\n",
        "from tensorflow.keras.callbacks import EarlyStopping, ModelCheckpoint, ReduceLROnPlateau\n",
        "from keras.models import Sequential\n",
        "from keras.layers import Dense,Flatten, Dropout\n",
        "from tensorflow.keras.utils import load_img\n",
        "from tensorflow.keras.utils import img_to_array\n",
        "from keras.layers import Conv2D, MaxPooling2D"
      ]
    },
    {
      "cell_type": "code",
      "source": [
        "train = ImageDataGenerator(rescale = 1./255,\n",
        "                                   shear_range = 0.2,\n",
        "                                   zoom_range = 0.2,\n",
        "                                   horizontal_flip = True)\n",
        "validation = ImageDataGenerator(rescale = 1./255)"
      ],
      "metadata": {
        "id": "RgJ50nCo-Iqg"
      },
      "execution_count": null,
      "outputs": []
    },
    {
      "cell_type": "code",
      "source": [
        "train_set=train.flow_from_directory('/content/drive/MyDrive/FRUIT1/train1',target_size = (64,64),batch_size = 12,class_mode = 'categorical')\n",
        "test_set=validation.flow_from_directory('/content/drive/MyDrive/FRUIT1/test1',target_size = (64,64),batch_size = 12,class_mode = 'categorical')"
      ],
      "metadata": {
        "colab": {
          "base_uri": "https://localhost:8080/"
        },
        "id": "Js8lFlgJ-LBA",
        "outputId": "a721a6c8-c84e-46ba-ae7d-4af6d2416e89"
      },
      "execution_count": null,
      "outputs": [
        {
          "output_type": "stream",
          "name": "stdout",
          "text": [
            "Found 699 images belonging to 10 classes.\n",
            "Found 272 images belonging to 10 classes.\n"
          ]
        }
      ]
    },
    {
      "cell_type": "code",
      "source": [
        "train_set.class_indices"
      ],
      "metadata": {
        "colab": {
          "base_uri": "https://localhost:8080/"
        },
        "id": "Gvad-kV4-SC4",
        "outputId": "d7eb68c4-0f2f-45e0-dbc8-ff51c0044f80"
      },
      "execution_count": null,
      "outputs": [
        {
          "output_type": "execute_result",
          "data": {
            "text/plain": [
              "{'chuối': 0,\n",
              " 'dâu tây': 1,\n",
              " 'dưa hấu': 2,\n",
              " 'dừa': 3,\n",
              " 'dứa': 4,\n",
              " 'khế': 5,\n",
              " 'măng cụt': 6,\n",
              " 'ổi': 7,\n",
              " 'táo': 8,\n",
              " 'xoài': 9}"
            ]
          },
          "metadata": {},
          "execution_count": 59
        }
      ]
    },
    {
      "cell_type": "code",
      "source": [
        ""
      ],
      "metadata": {
        "id": "e6nWY8Vg-WYA"
      },
      "execution_count": null,
      "outputs": []
    },
    {
      "cell_type": "code",
      "source": [
        "model = tf.keras.models.Sequential(\n",
        "    [ tf.keras.layers.Conv2D(32,(3,3),activation = 'relu',kernel_initializer='he_uniform',padding='same',input_shape =(64,64,3)),\n",
        "      tf.keras.layers.Conv2D(32,(3,3),activation = 'relu',kernel_initializer='he_uniform',padding='same'),\n",
        "      tf.keras.layers.MaxPool2D(2,2),\n",
        "\n",
        "      tf.keras.layers.Conv2D(32,(3,3),activation = 'relu',kernel_initializer='he_uniform',padding='same'),\n",
        "      tf.keras.layers.Conv2D(32,(3,3),activation = 'relu',kernel_initializer='he_uniform',padding='same'),\n",
        "      tf.keras.layers.MaxPool2D(2,2),\n",
        "\n",
        "      tf.keras.layers.Conv2D(64,(3,3),activation = 'relu',kernel_initializer='he_uniform',padding='same'),\n",
        "      tf.keras.layers.Conv2D(64,(3,3),activation = 'relu',kernel_initializer='he_uniform',padding='same'),\n",
        "      tf.keras.layers.MaxPool2D(2,2),\n",
        "\n",
        "      tf.keras.layers.Conv2D(128,(3,3),activation = 'relu',kernel_initializer='he_uniform',padding='same'),\n",
        "      tf.keras.layers.Conv2D(128,(3,3),activation = 'relu',kernel_initializer='he_uniform',padding='same'),\n",
        "      tf.keras.layers.MaxPool2D(2,2),\n",
        "     \n",
        "      tf.keras.layers.Flatten(),\n",
        "      tf.keras.layers.Dense(256,activation = 'relu',kernel_initializer='he_uniform'),\n",
        "      tf.keras.layers.Dense(10,activation='softmax')])\n",
        "model.summary()"
      ],
      "metadata": {
        "colab": {
          "base_uri": "https://localhost:8080/"
        },
        "id": "Ull81-Vb21tq",
        "outputId": "fe58730f-948c-468e-9be4-9e9a99b36064"
      },
      "execution_count": null,
      "outputs": [
        {
          "output_type": "stream",
          "name": "stdout",
          "text": [
            "Model: \"sequential_4\"\n",
            "_________________________________________________________________\n",
            " Layer (type)                Output Shape              Param #   \n",
            "=================================================================\n",
            " conv2d_32 (Conv2D)          (None, 64, 64, 32)        896       \n",
            "                                                                 \n",
            " conv2d_33 (Conv2D)          (None, 64, 64, 32)        9248      \n",
            "                                                                 \n",
            " max_pooling2d_16 (MaxPoolin  (None, 32, 32, 32)       0         \n",
            " g2D)                                                            \n",
            "                                                                 \n",
            " conv2d_34 (Conv2D)          (None, 32, 32, 32)        9248      \n",
            "                                                                 \n",
            " conv2d_35 (Conv2D)          (None, 32, 32, 32)        9248      \n",
            "                                                                 \n",
            " max_pooling2d_17 (MaxPoolin  (None, 16, 16, 32)       0         \n",
            " g2D)                                                            \n",
            "                                                                 \n",
            " conv2d_36 (Conv2D)          (None, 16, 16, 64)        18496     \n",
            "                                                                 \n",
            " conv2d_37 (Conv2D)          (None, 16, 16, 64)        36928     \n",
            "                                                                 \n",
            " max_pooling2d_18 (MaxPoolin  (None, 8, 8, 64)         0         \n",
            " g2D)                                                            \n",
            "                                                                 \n",
            " conv2d_38 (Conv2D)          (None, 8, 8, 128)         73856     \n",
            "                                                                 \n",
            " conv2d_39 (Conv2D)          (None, 8, 8, 128)         147584    \n",
            "                                                                 \n",
            " max_pooling2d_19 (MaxPoolin  (None, 4, 4, 128)        0         \n",
            " g2D)                                                            \n",
            "                                                                 \n",
            " flatten_4 (Flatten)         (None, 2048)              0         \n",
            "                                                                 \n",
            " dense_8 (Dense)             (None, 256)               524544    \n",
            "                                                                 \n",
            " dense_9 (Dense)             (None, 10)                2570      \n",
            "                                                                 \n",
            "=================================================================\n",
            "Total params: 832,618\n",
            "Trainable params: 832,618\n",
            "Non-trainable params: 0\n",
            "_________________________________________________________________\n"
          ]
        }
      ]
    },
    {
      "cell_type": "code",
      "source": [
        "opt = SGD(lr=0.001, momentum=0.9)\n",
        "model.compile(optimizer=opt, loss='categorical_crossentropy', metrics = ['accuracy'])"
      ],
      "metadata": {
        "colab": {
          "base_uri": "https://localhost:8080/"
        },
        "id": "yvwzLbU7-ZSA",
        "outputId": "9dfaa7c1-0c9f-4c54-ef0f-6f61c40b266e"
      },
      "execution_count": null,
      "outputs": [
        {
          "output_type": "stream",
          "name": "stderr",
          "text": [
            "/usr/local/lib/python3.7/dist-packages/keras/optimizer_v2/gradient_descent.py:102: UserWarning: The `lr` argument is deprecated, use `learning_rate` instead.\n",
            "  super(SGD, self).__init__(name, **kwargs)\n"
          ]
        }
      ]
    },
    {
      "cell_type": "code",
      "source": [
        "history = model.fit(train_set,batch_size=128,epochs=20,verbose=1,validation_data=test_set)"
      ],
      "metadata": {
        "colab": {
          "base_uri": "https://localhost:8080/"
        },
        "id": "LrH7jc87-d_I",
        "outputId": "cf3011b7-5bad-47b5-beac-4e70dc118de4"
      },
      "execution_count": null,
      "outputs": [
        {
          "output_type": "stream",
          "name": "stdout",
          "text": [
            "Epoch 1/20\n",
            "59/59 [==============================] - 24s 418ms/step - loss: 0.2940 - accuracy: 0.8941 - val_loss: 0.5952 - val_accuracy: 0.8309\n",
            "Epoch 2/20\n",
            "59/59 [==============================] - 24s 411ms/step - loss: 0.2220 - accuracy: 0.9213 - val_loss: 0.5534 - val_accuracy: 0.8493\n",
            "Epoch 3/20\n",
            "59/59 [==============================] - 24s 407ms/step - loss: 0.2492 - accuracy: 0.9227 - val_loss: 0.5526 - val_accuracy: 0.8346\n",
            "Epoch 4/20\n",
            "59/59 [==============================] - 24s 407ms/step - loss: 0.1934 - accuracy: 0.9256 - val_loss: 0.5470 - val_accuracy: 0.8566\n",
            "Epoch 5/20\n",
            "59/59 [==============================] - 24s 408ms/step - loss: 0.2005 - accuracy: 0.9285 - val_loss: 0.6466 - val_accuracy: 0.8456\n",
            "Epoch 6/20\n",
            "59/59 [==============================] - 24s 412ms/step - loss: 0.1600 - accuracy: 0.9428 - val_loss: 0.6851 - val_accuracy: 0.8529\n",
            "Epoch 7/20\n",
            "59/59 [==============================] - 24s 410ms/step - loss: 0.1763 - accuracy: 0.9413 - val_loss: 0.5572 - val_accuracy: 0.8382\n",
            "Epoch 8/20\n",
            "59/59 [==============================] - 24s 408ms/step - loss: 0.2249 - accuracy: 0.9285 - val_loss: 0.5356 - val_accuracy: 0.8309\n",
            "Epoch 9/20\n",
            "59/59 [==============================] - 24s 407ms/step - loss: 0.1552 - accuracy: 0.9413 - val_loss: 0.4343 - val_accuracy: 0.8640\n",
            "Epoch 10/20\n",
            "59/59 [==============================] - 24s 414ms/step - loss: 0.1389 - accuracy: 0.9471 - val_loss: 0.4805 - val_accuracy: 0.8603\n",
            "Epoch 11/20\n",
            "59/59 [==============================] - 24s 412ms/step - loss: 0.1649 - accuracy: 0.9442 - val_loss: 0.7250 - val_accuracy: 0.7868\n",
            "Epoch 12/20\n",
            "59/59 [==============================] - 24s 408ms/step - loss: 0.2497 - accuracy: 0.9170 - val_loss: 0.3942 - val_accuracy: 0.8750\n",
            "Epoch 13/20\n",
            "59/59 [==============================] - 24s 408ms/step - loss: 0.1303 - accuracy: 0.9599 - val_loss: 0.5240 - val_accuracy: 0.8566\n",
            "Epoch 14/20\n",
            "59/59 [==============================] - 24s 413ms/step - loss: 0.1193 - accuracy: 0.9585 - val_loss: 0.6464 - val_accuracy: 0.8199\n",
            "Epoch 15/20\n",
            "59/59 [==============================] - 24s 413ms/step - loss: 0.1072 - accuracy: 0.9642 - val_loss: 0.5413 - val_accuracy: 0.8529\n",
            "Epoch 16/20\n",
            "59/59 [==============================] - 24s 413ms/step - loss: 0.0869 - accuracy: 0.9728 - val_loss: 0.9938 - val_accuracy: 0.7537\n",
            "Epoch 17/20\n",
            "59/59 [==============================] - 24s 412ms/step - loss: 0.2338 - accuracy: 0.9170 - val_loss: 0.4631 - val_accuracy: 0.8676\n",
            "Epoch 18/20\n",
            "59/59 [==============================] - 24s 407ms/step - loss: 0.1259 - accuracy: 0.9514 - val_loss: 0.4911 - val_accuracy: 0.8640\n",
            "Epoch 19/20\n",
            "59/59 [==============================] - 24s 411ms/step - loss: 0.1137 - accuracy: 0.9571 - val_loss: 0.6936 - val_accuracy: 0.8419\n",
            "Epoch 20/20\n",
            "59/59 [==============================] - 24s 408ms/step - loss: 0.1014 - accuracy: 0.9628 - val_loss: 0.4798 - val_accuracy: 0.9044\n"
          ]
        }
      ]
    },
    {
      "cell_type": "code",
      "source": [
        "plt.plot(history.history['accuracy'])\n",
        "plt.plot(history.history['val_accuracy'])\n",
        "plt.title('Model Accuracy')\n",
        "plt.ylabel('accuracy')\n",
        "plt.xlabel('epoch')\n",
        "plt.legend(['Train','validation'],loc='upper left')\n",
        "plt.show()"
      ],
      "metadata": {
        "colab": {
          "base_uri": "https://localhost:8080/",
          "height": 295
        },
        "id": "Yj-yQT58Axjg",
        "outputId": "1b03aae3-aaf9-4cf9-c95e-cc32008fc47d"
      },
      "execution_count": null,
      "outputs": [
        {
          "output_type": "display_data",
          "data": {
            "text/plain": [
              "<Figure size 432x288 with 1 Axes>"
            ],
            "image/png": "[encoded data removed]"
          },
          "metadata": {
            "needs_background": "light"
          }
        }
      ]
    },
    {
      "cell_type": "code",
      "source": [
        "score=model.evaluate(test_set,verbose=1)\n",
        "print('Sai số: ',score[0])\n",
        "print('Độ chính xác: ',score[1])"
      ],
      "metadata": {
        "colab": {
          "base_uri": "https://localhost:8080/"
        },
        "id": "OUWixWY7A1Tx",
        "outputId": "c73249e3-f07f-47d3-ef43-3a3532fbbb27"
      },
      "execution_count": null,
      "outputs": [
        {
          "output_type": "stream",
          "name": "stdout",
          "text": [
            "23/23 [==============================] - 3s 148ms/step - loss: 0.4798 - accuracy: 0.9044\n",
            "Sai số:  0.4797544479370117\n",
            "Độ chính xác:  0.904411792755127\n"
          ]
        }
      ]
    },
    {
      "cell_type": "code",
      "source": [
        "model.save('TraiCay.h5')"
      ],
      "metadata": {
        "id": "XOwITXpKpBxW"
      },
      "execution_count": null,
      "outputs": []
    },
    {
      "cell_type": "code",
      "source": [
        "from tensorflow.keras.models import load_model\n",
        "model1=load_model('TraiCay.h5')"
      ],
      "metadata": {
        "id": "4SQ8ER1WpGGv"
      },
      "execution_count": null,
      "outputs": []
    },
    {
      "cell_type": "code",
      "source": [
        "test_img=load_img('/content/drive/MyDrive/FRUIT1/test1/chuối/Screen Shot 2018-06-12 at 9.38.04 PM.png',target_size=(64,64))\n",
        "plt.imshow(test_img)\n",
        "test_img= img_to_array(test_img)\n",
        "test_img=test_img/255\n",
        "test_img=np.expand_dims(test_img,axis=0)\n",
        "result=model.predict(test_img)\n",
        "if round(result[0][0])==1:\n",
        "  prediction=\"Chuối\"\n",
        "elif round(result[0][1])==1:\n",
        "  prediction=\"Dâu Tây\"\n",
        "elif round(result[0][2])==1:\n",
        "  prediction=\"Dưa hấu\"\n",
        "elif round(result[0][3])==1:\n",
        "  prediction=\"Dừa\"  \n",
        "elif round(result[0][4])==1:\n",
        "  prediction=\"Dứa\" \n",
        "elif round(result[0][5])==1:\n",
        "  prediction=\"Khế\"\n",
        "elif round(result[0][6])==1:\n",
        "  prediction=\"Măng cụt\"\n",
        "elif round(result[0][7])==1:\n",
        "  prediction=\"Ổi\"  \n",
        "elif round(result[0][8])==1:\n",
        "  prediction=\"Táo\" \n",
        "elif round(result[0][9])==1:\n",
        "  prediction=\"Xoài\"\n",
        "print('dự đoán:', prediction)"
      ],
      "metadata": {
        "colab": {
          "base_uri": "https://localhost:8080/",
          "height": 285
        },
        "id": "Zul8HpW0pGqI",
        "outputId": "e073ab38-1265-4c4d-fc5a-98ab27c06187"
      },
      "execution_count": null,
      "outputs": [
        {
          "output_type": "stream",
          "name": "stdout",
          "text": [
            "dự đoán: Chuối\n"
          ]
        },
        {
          "output_type": "display_data",
          "data": {
            "text/plain": [
              "<Figure size 432x288 with 1 Axes>"
            ],
            "image/png": "[encoded data removed]"
          },
          "metadata": {
            "needs_background": "light"
          }
        }
      ]
    }
  ]
}