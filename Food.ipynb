{
  "nbformat": 4,
  "nbformat_minor": 0,
  "metadata": {
    "colab": {
      "name": "Food.ipynb",
      "provenance": [],
      "collapsed_sections": [],
      "mount_file_id": "1he41NkFh121_VMyKsjMd1N_r-ahBfXjB",
      "authorship_tag": "ABX9TyPEH7WeMTlzscG1OWcAIcIQ",
      "include_colab_link": true
    },
    "kernelspec": {
      "name": "python3",
      "display_name": "Python 3"
    },
    "language_info": {
      "name": "python"
    }
  },
  "cells": [
    {
      "cell_type": "markdown",
      "metadata": {
        "id": "view-in-github",
        "colab_type": "text"
      },
      "source": [
        "<a href=\"https://colab.research.google.com/github/HuynhTanNam-19146217/FOOD10/blob/CODE%2BFILE/Food.ipynb\" target=\"_parent\"><img src=\"https://colab.research.google.com/assets/colab-badge.svg\" alt=\"Open In Colab\"/></a>"
      ]
    },
    {
      "cell_type": "code",
      "execution_count": null,
      "metadata": {
        "id": "pIVzjsPs2Tci"
      },
      "outputs": [],
      "source": [
        "from tensorflow.keras.preprocessing.image import ImageDataGenerator\n",
        "from tensorflow.keras.preprocessing import image\n",
        "from tensorflow.keras.optimizers import SGD, RMSprop\n",
        "from tensorflow.keras.utils import to_categorical\n",
        "import matplotlib.pyplot as plt\n",
        "from tensorflow.keras.models import load_model\n",
        "import tensorflow as  tf\n",
        "import numpy as np\n",
        "import cv2\n",
        "import os\n",
        "from keras.utils import np_utils\n",
        "from tensorflow.keras.callbacks import EarlyStopping, ModelCheckpoint, ReduceLROnPlateau\n",
        "from keras.models import Sequential\n",
        "from keras.layers import Dense,Flatten, Dropout\n",
        "from tensorflow.keras.utils import load_img\n",
        "from tensorflow.keras.utils import img_to_array\n",
        "from keras.layers import Conv2D, MaxPooling2D"
      ]
    },
    {
      "cell_type": "code",
      "source": [
        "train = ImageDataGenerator(rescale = 1./255,\n",
        "                                   shear_range = 0.2,\n",
        "                                   zoom_range = 0.2,\n",
        "                                   horizontal_flip = True)\n",
        "validation = ImageDataGenerator(rescale = 1./255)"
      ],
      "metadata": {
        "id": "QshWmW702hCp"
      },
      "execution_count": null,
      "outputs": []
    },
    {
      "cell_type": "code",
      "source": [
        "train_set=train.flow_from_directory('/content/drive/MyDrive/Food/Train',target_size = (64,64),batch_size = 12,class_mode = 'categorical')\n",
        "test_set=validation.flow_from_directory('/content/drive/MyDrive/Food/Validation',target_size = (64,64),batch_size = 12,class_mode = 'categorical')"
      ],
      "metadata": {
        "colab": {
          "base_uri": "https://localhost:8080/"
        },
        "id": "NqrPend_2jtx",
        "outputId": "3a54293f-9e4d-483d-f4aa-b83e507124ad"
      },
      "execution_count": null,
      "outputs": [
        {
          "output_type": "stream",
          "name": "stdout",
          "text": [
            "Found 561 images belonging to 8 classes.\n",
            "Found 233 images belonging to 8 classes.\n"
          ]
        }
      ]
    },
    {
      "cell_type": "code",
      "source": [
        "train_set.class_indices"
      ],
      "metadata": {
        "colab": {
          "base_uri": "https://localhost:8080/"
        },
        "id": "J7Q50NYn2z9Z",
        "outputId": "ad124a29-8540-4add-a731-22325a83a848"
      },
      "execution_count": null,
      "outputs": [
        {
          "output_type": "execute_result",
          "data": {
            "text/plain": [
              "{'bánh khọt': 0,\n",
              " 'bánh mỳ': 1,\n",
              " 'bánh xèo': 2,\n",
              " 'bún riêu cua': 3,\n",
              " 'cơm': 4,\n",
              " 'gỏi cuốn': 5,\n",
              " 'nem rán': 6,\n",
              " 'phở': 7}"
            ]
          },
          "metadata": {},
          "execution_count": 26
        }
      ]
    },
    {
      "cell_type": "code",
      "source": [
        "model = tf.keras.models.Sequential(\n",
        "    [ tf.keras.layers.Conv2D(32,(3,3),activation = 'relu',kernel_initializer='he_uniform',padding='same',input_shape =(64,64,3)),\n",
        "      tf.keras.layers.Conv2D(32,(3,3),activation = 'relu',kernel_initializer='he_uniform',padding='same'),\n",
        "      tf.keras.layers.MaxPool2D(2,2),\n",
        "\n",
        "      tf.keras.layers.Conv2D(32,(3,3),activation = 'relu',kernel_initializer='he_uniform',padding='same'),\n",
        "      tf.keras.layers.Conv2D(32,(3,3),activation = 'relu',kernel_initializer='he_uniform',padding='same'),\n",
        "      tf.keras.layers.MaxPool2D(2,2),\n",
        "\n",
        "      tf.keras.layers.Conv2D(64,(3,3),activation = 'relu',kernel_initializer='he_uniform',padding='same'),\n",
        "      tf.keras.layers.Conv2D(64,(3,3),activation = 'relu',kernel_initializer='he_uniform',padding='same'),\n",
        "      tf.keras.layers.MaxPool2D(2,2),\n",
        "\n",
        "      tf.keras.layers.Conv2D(128,(3,3),activation = 'relu',kernel_initializer='he_uniform',padding='same'),\n",
        "      tf.keras.layers.Conv2D(128,(3,3),activation = 'relu',kernel_initializer='he_uniform',padding='same'),\n",
        "      tf.keras.layers.MaxPool2D(2,2),\n",
        "     \n",
        "      tf.keras.layers.Flatten(),\n",
        "      tf.keras.layers.Dense(256,activation = 'relu',kernel_initializer='he_uniform'),\n",
        "      tf.keras.layers.Dense(8,activation='softmax')])\n",
        "model.summary()"
      ],
      "metadata": {
        "colab": {
          "base_uri": "https://localhost:8080/"
        },
        "id": "Ull81-Vb21tq",
        "outputId": "33dd56b4-1bfb-482d-d950-c54414ba841a"
      },
      "execution_count": null,
      "outputs": [
        {
          "output_type": "stream",
          "name": "stdout",
          "text": [
            "Model: \"sequential_3\"\n",
            "_________________________________________________________________\n",
            " Layer (type)                Output Shape              Param #   \n",
            "=================================================================\n",
            " conv2d_24 (Conv2D)          (None, 64, 64, 32)        896       \n",
            "                                                                 \n",
            " conv2d_25 (Conv2D)          (None, 64, 64, 32)        9248      \n",
            "                                                                 \n",
            " max_pooling2d_12 (MaxPoolin  (None, 32, 32, 32)       0         \n",
            " g2D)                                                            \n",
            "                                                                 \n",
            " conv2d_26 (Conv2D)          (None, 32, 32, 32)        9248      \n",
            "                                                                 \n",
            " conv2d_27 (Conv2D)          (None, 32, 32, 32)        9248      \n",
            "                                                                 \n",
            " max_pooling2d_13 (MaxPoolin  (None, 16, 16, 32)       0         \n",
            " g2D)                                                            \n",
            "                                                                 \n",
            " conv2d_28 (Conv2D)          (None, 16, 16, 64)        18496     \n",
            "                                                                 \n",
            " conv2d_29 (Conv2D)          (None, 16, 16, 64)        36928     \n",
            "                                                                 \n",
            " max_pooling2d_14 (MaxPoolin  (None, 8, 8, 64)         0         \n",
            " g2D)                                                            \n",
            "                                                                 \n",
            " conv2d_30 (Conv2D)          (None, 8, 8, 128)         73856     \n",
            "                                                                 \n",
            " conv2d_31 (Conv2D)          (None, 8, 8, 128)         147584    \n",
            "                                                                 \n",
            " max_pooling2d_15 (MaxPoolin  (None, 4, 4, 128)        0         \n",
            " g2D)                                                            \n",
            "                                                                 \n",
            " flatten_3 (Flatten)         (None, 2048)              0         \n",
            "                                                                 \n",
            " dense_6 (Dense)             (None, 256)               524544    \n",
            "                                                                 \n",
            " dense_7 (Dense)             (None, 8)                 2056      \n",
            "                                                                 \n",
            "=================================================================\n",
            "Total params: 832,104\n",
            "Trainable params: 832,104\n",
            "Non-trainable params: 0\n",
            "_________________________________________________________________\n"
          ]
        }
      ]
    },
    {
      "cell_type": "code",
      "source": [
        "opt = SGD(lr=0.001, momentum=0.9)\n",
        "model.compile(optimizer=opt, loss='categorical_crossentropy', metrics = ['accuracy'])"
      ],
      "metadata": {
        "colab": {
          "base_uri": "https://localhost:8080/"
        },
        "id": "CybxzUvP28eJ",
        "outputId": "b0abc5a8-e7eb-4e03-e475-a82c544e91de"
      },
      "execution_count": null,
      "outputs": [
        {
          "output_type": "stream",
          "name": "stderr",
          "text": [
            "/usr/local/lib/python3.7/dist-packages/keras/optimizer_v2/gradient_descent.py:102: UserWarning: The `lr` argument is deprecated, use `learning_rate` instead.\n",
            "  super(SGD, self).__init__(name, **kwargs)\n"
          ]
        }
      ]
    },
    {
      "cell_type": "code",
      "source": [
        "history = model.fit(train_set,batch_size=128,epochs=20,verbose=1,validation_data=test_set)"
      ],
      "metadata": {
        "colab": {
          "base_uri": "https://localhost:8080/"
        },
        "id": "ZZLlUdh03ACJ",
        "outputId": "330f66f9-fc3d-4904-e55f-c2cfa45372ef"
      },
      "execution_count": null,
      "outputs": [
        {
          "output_type": "stream",
          "name": "stdout",
          "text": [
            "Epoch 1/20\n",
            "47/47 [==============================] - 18s 366ms/step - loss: 2.0011 - accuracy: 0.2228 - val_loss: 1.5777 - val_accuracy: 0.4034\n",
            "Epoch 2/20\n",
            "47/47 [==============================] - 17s 358ms/step - loss: 1.6425 - accuracy: 0.3262 - val_loss: 1.5548 - val_accuracy: 0.3648\n",
            "Epoch 3/20\n",
            "47/47 [==============================] - 17s 356ms/step - loss: 1.5084 - accuracy: 0.3922 - val_loss: 1.3858 - val_accuracy: 0.4335\n",
            "Epoch 4/20\n",
            "47/47 [==============================] - 17s 361ms/step - loss: 1.4972 - accuracy: 0.3601 - val_loss: 1.4622 - val_accuracy: 0.3820\n",
            "Epoch 5/20\n",
            "47/47 [==============================] - 17s 358ms/step - loss: 1.3907 - accuracy: 0.4278 - val_loss: 1.1633 - val_accuracy: 0.4893\n",
            "Epoch 6/20\n",
            "47/47 [==============================] - 17s 359ms/step - loss: 1.2549 - accuracy: 0.4635 - val_loss: 1.1886 - val_accuracy: 0.5150\n",
            "Epoch 7/20\n",
            "47/47 [==============================] - 17s 359ms/step - loss: 1.1942 - accuracy: 0.5365 - val_loss: 1.2598 - val_accuracy: 0.4807\n",
            "Epoch 8/20\n",
            "47/47 [==============================] - 17s 360ms/step - loss: 1.2114 - accuracy: 0.5294 - val_loss: 1.6068 - val_accuracy: 0.4120\n",
            "Epoch 9/20\n",
            "47/47 [==============================] - 17s 358ms/step - loss: 1.3439 - accuracy: 0.4759 - val_loss: 1.0851 - val_accuracy: 0.5536\n",
            "Epoch 10/20\n",
            "47/47 [==============================] - 17s 359ms/step - loss: 1.0569 - accuracy: 0.5758 - val_loss: 1.1086 - val_accuracy: 0.5365\n",
            "Epoch 11/20\n",
            "47/47 [==============================] - 17s 362ms/step - loss: 1.0201 - accuracy: 0.5954 - val_loss: 0.9480 - val_accuracy: 0.6395\n",
            "Epoch 12/20\n",
            "47/47 [==============================] - 17s 361ms/step - loss: 1.0082 - accuracy: 0.5829 - val_loss: 1.0642 - val_accuracy: 0.5622\n",
            "Epoch 13/20\n",
            "47/47 [==============================] - 17s 359ms/step - loss: 0.9435 - accuracy: 0.6488 - val_loss: 1.0549 - val_accuracy: 0.6223\n",
            "Epoch 14/20\n",
            "47/47 [==============================] - 17s 359ms/step - loss: 0.9437 - accuracy: 0.6578 - val_loss: 1.0065 - val_accuracy: 0.6052\n",
            "Epoch 15/20\n",
            "47/47 [==============================] - 17s 357ms/step - loss: 0.9252 - accuracy: 0.6578 - val_loss: 0.8678 - val_accuracy: 0.6567\n",
            "Epoch 16/20\n",
            "47/47 [==============================] - 17s 358ms/step - loss: 0.8723 - accuracy: 0.6791 - val_loss: 0.8694 - val_accuracy: 0.6652\n",
            "Epoch 17/20\n",
            "47/47 [==============================] - 17s 359ms/step - loss: 0.8284 - accuracy: 0.6898 - val_loss: 0.9180 - val_accuracy: 0.6309\n",
            "Epoch 18/20\n",
            "47/47 [==============================] - 17s 364ms/step - loss: 0.7816 - accuracy: 0.7059 - val_loss: 0.8342 - val_accuracy: 0.6910\n",
            "Epoch 19/20\n",
            "47/47 [==============================] - 17s 364ms/step - loss: 0.8288 - accuracy: 0.6881 - val_loss: 0.8479 - val_accuracy: 0.6910\n",
            "Epoch 20/20\n",
            "47/47 [==============================] - 18s 373ms/step - loss: 0.7532 - accuracy: 0.7184 - val_loss: 0.7646 - val_accuracy: 0.7339\n"
          ]
        }
      ]
    },
    {
      "cell_type": "code",
      "source": [
        "plt.plot(history.history['accuracy'])\n",
        "plt.plot(history.history['val_accuracy'])\n",
        "plt.title('Model Accuracy')\n",
        "plt.ylabel('accuracy')\n",
        "plt.xlabel('epoch')\n",
        "plt.legend(['Train','validation'],loc='upper left')\n",
        "plt.show()"
      ],
      "metadata": {
        "colab": {
          "base_uri": "https://localhost:8080/",
          "height": 295
        },
        "id": "oDr_3pBo5zly",
        "outputId": "be9d1932-2ace-49e4-cf83-0958f99c050c"
      },
      "execution_count": null,
      "outputs": [
        {
          "output_type": "display_data",
          "data": {
            "text/plain": [
              "<Figure size 432x288 with 1 Axes>"
            ],
            "image/png": "[encoded data removed]"
          },
          "metadata": {
            "needs_background": "light"
          }
        }
      ]
    },
    {
      "cell_type": "code",
      "source": [
        "score=model.evaluate(test_set,verbose=1)\n",
        "print('Sai số: ',score[0])\n",
        "print('Độ chính xác: ',score[1])"
      ],
      "metadata": {
        "colab": {
          "base_uri": "https://localhost:8080/"
        },
        "id": "XBBvjFxJ53jK",
        "outputId": "962d7dc4-3ad0-4e59-fd44-338c917d4bec"
      },
      "execution_count": null,
      "outputs": [
        {
          "output_type": "stream",
          "name": "stdout",
          "text": [
            "20/20 [==============================] - 2s 111ms/step - loss: 0.7646 - accuracy: 0.7339\n",
            "Sai số:  0.7646019458770752\n",
            "Độ chính xác:  0.733905553817749\n"
          ]
        }
      ]
    },
    {
      "cell_type": "code",
      "source": [
        "model.save('Food.h5')"
      ],
      "metadata": {
        "id": "FmU9ttAB6Cfz"
      },
      "execution_count": null,
      "outputs": []
    },
    {
      "cell_type": "code",
      "source": [
        "from tensorflow.keras.models import load_model\n",
        "model1=load_model('Food.h5')"
      ],
      "metadata": {
        "id": "zRM9fRrT6QMC"
      },
      "execution_count": null,
      "outputs": []
    },
    {
      "cell_type": "code",
      "source": [
        "test_img=load_img('/content/drive/MyDrive/Food/Validation/bánh khọt/banhkhot (43).png',target_size=(64,64))\n",
        "plt.imshow(test_img)\n",
        "test_img= img_to_array(test_img)\n",
        "test_img=test_img/255\n",
        "test_img=np.expand_dims(test_img,axis=0)\n",
        "result=model.predict(test_img)\n",
        "if round(result[0][0])==1:\n",
        "  prediction=\"banhkhot\"\n",
        "elif round(result[0][1])==1:\n",
        "  prediction=\"banhmy\"\n",
        "elif round(result[0][2])==1:\n",
        "  prediction=\"banhxeo\"\n",
        "elif round(result[0][3])==1:\n",
        "  prediction=\"bunrieucua\"  \n",
        "elif round(result[0][4])==1:\n",
        "  prediction=\"com\" \n",
        "elif round(result[0][5])==1:\n",
        "  prediction=\"goicuon\"\n",
        "elif round(result[0][6])==1:\n",
        "  prediction=\"nem ran\" \n",
        "elif round(result[0][7])==1:\n",
        "  prediction=\"pho\"\n",
        "print('dự đoán:', prediction)"
      ],
      "metadata": {
        "colab": {
          "base_uri": "https://localhost:8080/",
          "height": 285
        },
        "id": "_v28wRPS6X8R",
        "outputId": "71f9ba84-2366-4f11-8666-61869f11dfa1"
      },
      "execution_count": null,
      "outputs": [
        {
          "output_type": "stream",
          "name": "stdout",
          "text": [
            "dự đoán: banhkhot\n"
          ]
        },
        {
          "output_type": "display_data",
          "data": {
            "text/plain": [
              "<Figure size 432x288 with 1 Axes>"
            ],
            "image/png": "[encoded data removed]"
          },
          "metadata": {
            "needs_background": "light"
          }
        }
      ]
    }
  ]
}